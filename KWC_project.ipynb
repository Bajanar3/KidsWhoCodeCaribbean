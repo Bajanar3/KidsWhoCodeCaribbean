{
  "nbformat": 4,
  "nbformat_minor": 0,
  "metadata": {
    "colab": {
      "name": "KWC project.ipynb",
      "private_outputs": true,
      "provenance": [],
      "collapsed_sections": []
    },
    "kernelspec": {
      "name": "python3",
      "display_name": "Python 3"
    }
  },
  "cells": [
    {
      "cell_type": "code",
      "metadata": {
        "id": "D-DEaiKvtFPG"
      },
      "source": [
        "#if you can see this you are in\n",
        "import numpy as np "
      ],
      "execution_count": null,
      "outputs": []
    },
    {
      "cell_type": "code",
      "metadata": {
        "id": "QpUBX-Tx0NxQ",
        "cellView": "form"
      },
      "source": [
        "#@title Default title text\n",
        "class Subjects:\n",
        "    def __init__(self, math, spanish, french, history, geo, science):\n",
        "        self.math = float(math)\n",
        "        self.spanish = float(spanish)\n",
        "        self.french = float(french)\n",
        "        self.science = float(science)\n",
        "        self.geo = float(geo)\n",
        "        self.history = float(history)\n",
        "\n",
        "    def student_marks(self):\n",
        "        marks = [self.math,\n",
        "                 self.spanish,\n",
        "                 self.french,\n",
        "                 self.history,\n",
        "                 self.geo,\n",
        "                 self.science]\n",
        "        return marks\n",
        "\n",
        " \n"
      ],
      "execution_count": null,
      "outputs": []
    },
    {
      "cell_type": "code",
      "metadata": {
        "id": "z4Eug294jATz",
        "cellView": "form"
      },
      "source": [
        "#@title Default title text\n",
        "class Students(Subjects):\n",
        "  def __init__(self, name, math, spanish, french, history, geo, science):\n",
        "    self.name = name\n",
        "    Subjects.__init__(self, math, spanish, french, history, geo, science)\n",
        "  \n",
        "  def print_name(self):\n",
        "        return self.name\n",
        "  \n",
        "  def describe(self):\n",
        "    print(Subjects.student_marks(self))\n",
        "\n",
        "\n"
      ],
      "execution_count": null,
      "outputs": []
    },
    {
      "cell_type": "code",
      "metadata": {
        "id": "FIspoqrd5k3u",
        "cellView": "code"
      },
      "source": [
        "#@title Enter Student Data\n",
        "\n",
        "\n",
        "answer = \"Y\"\n",
        "school = []\n",
        "while answer == \"Y\": \n",
        "    name = input(\"Please input Name: \")\n",
        "    math = input(\"Math score: \")\n",
        "    spanish = input(\"Spanish score: \")\n",
        "    french = input(\"French score: \")\n",
        "    history = input(\"History score: \")\n",
        "    geo = input(\"Geo score: \")\n",
        "    science = input(\"Science score: \")\n",
        "    \n",
        "    student0 = Students(name, math, spanish, french, history, geo, science)\n",
        "    school.append(student0)\n",
        "    answer = input(\"Restart? Y/N?\")\n",
        "    answer = answer.upper()\n",
        "    if answer == \"N\":\n",
        "        print(\"Ok! Have a nice day!\")"
      ],
      "execution_count": null,
      "outputs": []
    },
    {
      "cell_type": "code",
      "metadata": {
        "id": "phwiWJ3EfnA0"
      },
      "source": [
        "#@title Default title text\n",
        "for student in school:\n",
        "    print(\"\\n\\nName:{}\\nAverage: {}\\nMax: {}\".format(student.print_name(), np.mean(student.student_marks()), np.max(student.student_marks())))"
      ],
      "execution_count": null,
      "outputs": []
    }
  ]
}