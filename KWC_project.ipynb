{
  "nbformat": 4,
  "nbformat_minor": 0,
  "metadata": {
    "colab": {
      "name": "KWC project.ipynb",
      "private_outputs": true,
      "provenance": [],
      "collapsed_sections": [],
      "include_colab_link": true
    },
    "kernelspec": {
      "name": "python3",
      "display_name": "Python 3"
    }
  },
  "cells": [
    {
      "cell_type": "markdown",
      "metadata": {
        "id": "view-in-github",
        "colab_type": "text"
      },
      "source": [
        "<a href=\"https://colab.research.google.com/github/Bajanar3/KidsWhoCodeCaribbean/blob/main/KWC_project.ipynb\" target=\"_parent\"><img src=\"https://colab.research.google.com/assets/colab-badge.svg\" alt=\"Open In Colab\"/></a>"
      ]
    },
    {
      "cell_type": "code",
      "metadata": {
        "id": "D-DEaiKvtFPG"
      },
      "source": [
        "#if you can see this you are in\n",
        "import numpy as np "
      ],
      "execution_count": null,
      "outputs": []
    },
    {
      "cell_type": "code",
      "metadata": {
        "id": "h16lSXAzDes9"
      },
      "source": [
        ""
      ],
      "execution_count": null,
      "outputs": []
    },
    {
      "cell_type": "code",
      "metadata": {
        "id": "hCJm8R5twUK6"
      },
      "source": [
        ""
      ],
      "execution_count": null,
      "outputs": []
    },
    {
      "cell_type": "code",
      "metadata": {
        "id": "QpUBX-Tx0NxQ"
      },
      "source": [
        "class Subjects:\n",
        "    def __init__(self, math, spanish, french, history, geo, science):\n",
        "        self.math = float(math)\n",
        "        self.spanish = float(spanish)\n",
        "        self.french = float(french)\n",
        "        self.science = float(science)\n",
        "        self.geo = float(geo)\n",
        "        self.history = float(history)\n",
        "\n",
        "    def student_marks(self):\n",
        "        marks = [self.math,\n",
        "                 self.spanish,\n",
        "                 self.french,\n",
        "                 self.history,\n",
        "                 self.geo,\n",
        "                 self.science]\n",
        "        return marks\n",
        "\n",
        " \n"
      ],
      "execution_count": null,
      "outputs": []
    },
    {
      "cell_type": "code",
      "metadata": {
        "id": "z4Eug294jATz"
      },
      "source": [
        "class Students(Subjects):\n",
        "  def __init__(self, name, math, spanish, french, history, geo, science):\n",
        "    self.name = name\n",
        "    Subjects.__init__(self, math, spanish, french, history, geo, science)\n",
        "  \n",
        "  def print_name(self):\n",
        "        return self.name\n",
        "  \n",
        "  def describe(self):\n",
        "    print(Subjects.student_marks(self))\n",
        "\n",
        "\n"
      ],
      "execution_count": null,
      "outputs": []
    },
    {
      "cell_type": "code",
      "metadata": {
        "id": "MA8ItxQTv4Lq"
      },
      "source": [
        "student_1 = Students(name, math, spanish, french, history, geo, science)\n",
        "student_2 = Students(name, math, spanish, french, history, geo, science)"
      ],
      "execution_count": null,
      "outputs": []
    },
    {
      "cell_type": "code",
      "metadata": {
        "id": "jyfhqwU8ysh0"
      },
      "source": [
        "maximum = np.max(student_2.student_marks())\n",
        "average = np.mean(student_2.student_marks())\n",
        "print((average, maximum))"
      ],
      "execution_count": null,
      "outputs": []
    },
    {
      "cell_type": "code",
      "metadata": {
        "id": "FIspoqrd5k3u"
      },
      "source": [
        "#student_1 = Students(name, math, spanish, french, history, geo, science)\n",
        "#student_2 = Students(name, math, spanish, french, history, geo, science)\n",
        "answer = \"Y\"\n",
        "while answer == \"Y\":\n",
        "  name = (input(\"Please input Name: \"))\n",
        "  math = (input(\"Math score: \"))\n",
        "  spanish = (input(\"Spanish score: \"))\n",
        "  french = (input(\"French score: \"))\n",
        "  history = (input(\"History score: \"))\n",
        "  geo = (input(\"Geo score: \"))\n",
        "  science = (input(\"Science score: \"))\n",
        "  #print(\"{}, your average mark is {} and your max mark is {}\".format(name,average,max))\n",
        "  student0 = Students(name, math, spanish, french, history, geo, science)\n",
        "  \n",
        "  answer = (input(\"Restart? Y/N?\"))\n",
        "  answer = answer.upper()\n",
        "if answer == \"N\":\n",
        "  print(\"Ok! Have a nice day!\")"
      ],
      "execution_count": null,
      "outputs": []
    },
    {
      "cell_type": "code",
      "metadata": {
        "id": "phwiWJ3EfnA0"
      },
      "source": [
        ""
      ],
      "execution_count": null,
      "outputs": []
    }
  ]
}